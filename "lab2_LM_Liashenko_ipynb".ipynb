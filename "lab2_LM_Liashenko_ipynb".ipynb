{
  "nbformat": 4,
  "nbformat_minor": 0,
  "metadata": {
    "colab": {
      "provenance": [],
      "gpuType": "T4",
      "include_colab_link": true
    },
    "kernelspec": {
      "name": "python3",
      "display_name": "Python 3"
    },
    "language_info": {
      "name": "python"
    },
    "accelerator": "GPU"
  },
  "cells": [
    {
      "cell_type": "markdown",
      "metadata": {
        "id": "view-in-github",
        "colab_type": "text"
      },
      "source": [
        "<a href=\"https://colab.research.google.com/github/Sankoku/Human-Machine/blob/main/%22lab2_LM_Liashenko_ipynb%22.ipynb\" target=\"_parent\"><img src=\"https://colab.research.google.com/assets/colab-badge.svg\" alt=\"Open In Colab\"/></a>"
      ]
    },
    {
      "cell_type": "markdown",
      "source": [
        "2. Ляшенко Роман - Blog author gender classification data set  (http://www.cs.uic.edu/~liub/FBS/blog-gender-dataset.rar)"
      ],
      "metadata": {
        "id": "Cjz_dIkWe0H6"
      }
    },
    {
      "cell_type": "code",
      "source": [
        "!pip install nltk"
      ],
      "metadata": {
        "colab": {
          "base_uri": "https://localhost:8080/"
        },
        "id": "uTjP0a3t808c",
        "outputId": "5c92aaf0-b2bd-4038-9448-65d18fcf0017"
      },
      "execution_count": 2,
      "outputs": [
        {
          "output_type": "stream",
          "name": "stdout",
          "text": [
            "Requirement already satisfied: nltk in /usr/local/lib/python3.11/dist-packages (3.9.1)\n",
            "Requirement already satisfied: click in /usr/local/lib/python3.11/dist-packages (from nltk) (8.2.1)\n",
            "Requirement already satisfied: joblib in /usr/local/lib/python3.11/dist-packages (from nltk) (1.5.1)\n",
            "Requirement already satisfied: regex>=2021.8.3 in /usr/local/lib/python3.11/dist-packages (from nltk) (2024.11.6)\n",
            "Requirement already satisfied: tqdm in /usr/local/lib/python3.11/dist-packages (from nltk) (4.67.1)\n"
          ]
        }
      ]
    },
    {
      "cell_type": "code",
      "execution_count": 3,
      "metadata": {
        "colab": {
          "base_uri": "https://localhost:8080/"
        },
        "id": "JMdKBfccepso",
        "outputId": "495d2e84-a6bc-4b74-85e7-772d0c86518c"
      },
      "outputs": [
        {
          "output_type": "stream",
          "name": "stdout",
          "text": [
            "--2025-06-08 15:00:53--  https://raw.githubusercontent.com/nltk/nltk_data/gh-pages/packages/corpora/comparative_sentences.zip\n",
            "Resolving raw.githubusercontent.com (raw.githubusercontent.com)... 185.199.109.133, 185.199.111.133, 185.199.108.133, ...\n",
            "Connecting to raw.githubusercontent.com (raw.githubusercontent.com)|185.199.109.133|:443... connected.\n",
            "HTTP request sent, awaiting response... 200 OK\n",
            "Length: 279121 (273K) [application/zip]\n",
            "Saving to: ‘comparative_sentences.zip’\n",
            "\n",
            "comparative_sentenc 100%[===================>] 272.58K  --.-KB/s    in 0.003s  \n",
            "\n",
            "2025-06-08 15:00:53 (77.3 MB/s) - ‘comparative_sentences.zip’ saved [279121/279121]\n",
            "\n"
          ]
        }
      ],
      "source": [
        "!wget https://raw.githubusercontent.com/nltk/nltk_data/gh-pages/packages/corpora/comparative_sentences.zip"
      ]
    },
    {
      "cell_type": "code",
      "source": [
        "!unzip comparative_sentences.zip"
      ],
      "metadata": {
        "colab": {
          "base_uri": "https://localhost:8080/"
        },
        "id": "k8jmal9t_sp3",
        "outputId": "8c4c688a-274e-4166-ea92-0a01950afba3"
      },
      "execution_count": 4,
      "outputs": [
        {
          "output_type": "stream",
          "name": "stdout",
          "text": [
            "Archive:  comparative_sentences.zip\n",
            "   creating: comparative_sentences/\n",
            "  inflating: comparative_sentences/labeledSentences.txt  \n",
            "  inflating: comparative_sentences/listOfkeywords.txt  \n",
            "  inflating: comparative_sentences/README.txt  \n"
          ]
        }
      ]
    },
    {
      "cell_type": "code",
      "source": [
        "# Лабораторна робота №2: Наївний байєсівський класифікатор для аналізу порівняльних речень\n",
        "# Датасет: Comparative Sentence Dataset\n",
        "\n",
        "import nltk\n",
        "import numpy as np\n",
        "import pandas as pd\n",
        "import re\n",
        "from collections import defaultdict\n",
        "import matplotlib.pyplot as plt\n",
        "from sklearn.metrics import confusion_matrix, classification_report\n",
        "import seaborn as sns\n",
        "\n",
        "# Завантаження необхідних ресурсів NLTK\n",
        "nltk.download('punkt_tab')\n",
        "nltk.download('punkt')\n",
        "nltk.download('stopwords')\n",
        "nltk.download('wordnet')\n",
        "nltk.download('omw-1.4')\n",
        "nltk.download('comparative_sentences')\n",
        "\n",
        "from nltk.corpus import stopwords\n",
        "from nltk.stem import WordNetLemmatizer\n",
        "from nltk.tokenize import word_tokenize\n",
        "\n",
        "print(\" Лабораторна робота №2: Наївний байєсівський класифікатор\")\n",
        "print(\" Датасет: Comparative Sentence Dataset\")\n",
        "print(\"=\" * 60)\n",
        "\n",
        "# 1. ЗАВАНТАЖЕННЯ ТА ОБРОБКА ДАНИХ\n",
        "\n",
        "# Список ключових слів для визначення порівняльних речень\n",
        "COMPARATIVE_KEYWORDS = {\n",
        "    'beat', 'inferior', 'outstrip', 'both', 'on par with', 'choice', 'choose', 'prefer',\n",
        "    'recommend', 'outperform', 'superior', 'all', 'up against', 'less', 'favor', 'defeat',\n",
        "    'twice', 'thrice', 'half', 'same', 'either', 'compete', 'number one', 'one of few',\n",
        "    'more', 'like', 'behind', 'similar', 'identical', 'versus', 'first', 'outdistance',\n",
        "    'before', 'double', 'outsell', 'nobody', 'vs', 'last', 'after', 'improve', 'equal',\n",
        "    'equivalent', 'together', 'altogether', 'alternate', 'only', 'outmatch', 'ahead',\n",
        "    'fraction', 'outdo', 'match', 'unmatched', 'peerless', 'differ', 'outwit', 'rival',\n",
        "    'compare', 'top', 'exceed', 'lead', 'win', 'outstrip', 'none', 'near', 'unrivaled',\n",
        "    'dominate', 'second', 'nonpareil', 'advantage', 'unlike', 'least', 'outclass',\n",
        "    'outfox', 'outdistance', 'most', 'better', 'worse', 'best', 'worst', 'than',\n",
        "    'compared', 'comparison', 'rather than', 'as good as', 'as bad as', 'faster',\n",
        "    'slower', 'bigger', 'smaller', 'higher', 'lower', 'greater', 'lesser'\n",
        "}\n",
        "\n",
        "def is_comparative_sentence(sentence):\n",
        "    \"\"\"Визначає, чи є речення порівняльним на основі ключових слів\"\"\"\n",
        "    sentence_lower = sentence.lower()\n",
        "\n",
        "    # Перевірка на наявність ключових слів\n",
        "    for keyword in COMPARATIVE_KEYWORDS:\n",
        "        if keyword in sentence_lower:\n",
        "            return True\n",
        "\n",
        "    # Перевірка на граматичні форми (comparative adjectives/adverbs)\n",
        "    comparative_patterns = [\n",
        "        r'\\b\\w+er\\s+than\\b',  # bigger than, faster than\n",
        "        r'\\bmore\\s+\\w+\\s+than\\b',  # more beautiful than\n",
        "        r'\\bless\\s+\\w+\\s+than\\b',  # less important than\n",
        "        r'\\bas\\s+\\w+\\s+as\\b',  # as good as\n",
        "        r'\\bthe\\s+\\w+est\\b',  # the biggest, the fastest\n",
        "        r'\\bmost\\s+\\w+\\b',  # most beautiful\n",
        "        r'\\bleast\\s+\\w+\\b',  # least important\n",
        "    ]\n",
        "\n",
        "    for pattern in comparative_patterns:\n",
        "        if re.search(pattern, sentence_lower):\n",
        "            return True\n",
        "\n",
        "    return False\n",
        "\n",
        "def load_comparative_data():\n",
        "    \"\"\"Завантаження та обробка датасету порівняльних речень\"\"\"\n",
        "    from nltk.corpus import comparative_sentences\n",
        "\n",
        "    # Отримання всіх речень\n",
        "    sentences = comparative_sentences.sents()\n",
        "\n",
        "    # Створення міток: 1 для порівняльних, 0 для непорівняльних\n",
        "    labels = []\n",
        "    processed_sentences = []\n",
        "\n",
        "    for sent in sentences:\n",
        "        sentence_text = ' '.join(sent)\n",
        "\n",
        "        # Очищення від XML тегів (якщо є)\n",
        "        clean_text = re.sub(r'<[^>]+>', '', sentence_text).strip()\n",
        "        processed_sentences.append(clean_text)\n",
        "\n",
        "        # Визначення, чи є речення порівняльним\n",
        "        if is_comparative_sentence(clean_text):\n",
        "            labels.append(1)  # порівняльне\n",
        "        else:\n",
        "            labels.append(0)  # непорівняльне\n",
        "\n",
        "    return processed_sentences, labels\n",
        "\n",
        "# Альтернативний метод завантаження з файлу (якщо потрібно)\n",
        "def load_from_file(filepath):\n",
        "    \"\"\"Завантаження даних з файлу labeledSentences.txt\"\"\"\n",
        "    sentences = []\n",
        "    labels = []\n",
        "\n",
        "    try:\n",
        "        with open(filepath, 'r', encoding='utf-8') as f:\n",
        "            content = f.read()\n",
        "\n",
        "        # Розділення на речення\n",
        "        lines = content.split('\\n')\n",
        "\n",
        "        for line in lines:\n",
        "            if line.strip():\n",
        "                # Очищення від XML тегів\n",
        "                clean_line = re.sub(r'<[^>]+>', '', line).strip()\n",
        "                if clean_line:  # якщо після очищення щось залишилось\n",
        "                    sentences.append(clean_line)\n",
        "\n",
        "                    # Визначення мітки на основі наявності XML тегів в оригіналі\n",
        "                    if any(tag in line for tag in ['<cs-1>', '<cs-2>', '<cs-3>', '<cs-4>']):\n",
        "                        labels.append(1)  # порівняльне\n",
        "                    else:\n",
        "                        # Додаткова перевірка на ключові слова\n",
        "                        if is_comparative_sentence(clean_line):\n",
        "                            labels.append(1)\n",
        "                        else:\n",
        "                            labels.append(0)  # непорівняльне\n",
        "\n",
        "    except FileNotFoundError:\n",
        "        print(\" Файл не знайдено. Використовуємо датасет з NLTK\")\n",
        "        return load_comparative_data()\n",
        "\n",
        "    return sentences, labels"
      ],
      "metadata": {
        "id": "qbOQD0BbmHe1",
        "outputId": "30fb68a0-fc93-4217-91d4-efb48c06ff06",
        "colab": {
          "base_uri": "https://localhost:8080/"
        }
      },
      "execution_count": 5,
      "outputs": [
        {
          "output_type": "stream",
          "name": "stderr",
          "text": [
            "[nltk_data] Downloading package punkt_tab to /root/nltk_data...\n",
            "[nltk_data]   Unzipping tokenizers/punkt_tab.zip.\n",
            "[nltk_data] Downloading package punkt to /root/nltk_data...\n",
            "[nltk_data]   Unzipping tokenizers/punkt.zip.\n",
            "[nltk_data] Downloading package stopwords to /root/nltk_data...\n",
            "[nltk_data]   Unzipping corpora/stopwords.zip.\n",
            "[nltk_data] Downloading package wordnet to /root/nltk_data...\n",
            "[nltk_data] Downloading package omw-1.4 to /root/nltk_data...\n",
            "[nltk_data] Downloading package comparative_sentences to\n",
            "[nltk_data]     /root/nltk_data...\n"
          ]
        },
        {
          "output_type": "stream",
          "name": "stdout",
          "text": [
            " Лабораторна робота №2: Наївний байєсівський класифікатор\n",
            " Датасет: Comparative Sentence Dataset\n",
            "============================================================\n"
          ]
        },
        {
          "output_type": "stream",
          "name": "stderr",
          "text": [
            "[nltk_data]   Unzipping corpora/comparative_sentences.zip.\n"
          ]
        }
      ]
    },
    {
      "cell_type": "code",
      "source": [
        "# 2. ФУНКЦІЯ ПОПЕРЕДНЬОЇ ОБРОБКИ ТЕКСТУ\n",
        "def process_sentence(sentence):\n",
        "    \"\"\"\n",
        "    Попередня обробка речення:\n",
        "    - Видалення знаків пунктуації\n",
        "    - Приведення до нижнього регістру\n",
        "    - Токенізація\n",
        "    - Видалення стоп-слів\n",
        "    - Лематизація\n",
        "    \"\"\"\n",
        "    if not sentence:\n",
        "        return []\n",
        "\n",
        "    # Видалення URL, згадок, хештегів\n",
        "    sentence = re.sub(r'http\\S+|www\\S+|https\\S+', '', sentence, flags=re.MULTILINE)\n",
        "    sentence = re.sub(r'@\\w+|#\\w+', '', sentence)\n",
        "\n",
        "    # Видалення знаків пунктуації та цифр\n",
        "    sentence = re.sub(r'[^a-zA-Z\\s]', '', sentence)\n",
        "\n",
        "    # Приведення до нижнього регістру\n",
        "    sentence = sentence.lower()\n",
        "\n",
        "    # Токенізація\n",
        "    tokens = word_tokenize(sentence)\n",
        "\n",
        "    # Видалення стоп-слів\n",
        "    stop_words = set(stopwords.words('english'))\n",
        "    tokens = [token for token in tokens if token not in stop_words and len(token) > 2]\n",
        "\n",
        "    # Лематизація\n",
        "    lemmatizer = WordNetLemmatizer()\n",
        "    tokens = [lemmatizer.lemmatize(token) for token in tokens]\n",
        "\n",
        "    return tokens"
      ],
      "metadata": {
        "id": "EouqrPFOLJr-"
      },
      "execution_count": 6,
      "outputs": []
    },
    {
      "cell_type": "code",
      "source": [
        "# 3. ПОБУДОВА ЧАСТОТНОГО СЛОВНИКА\n",
        "def build_freqs(sentences, labels):\n",
        "    \"\"\"\n",
        "    Створює частотний словник у форматі:\n",
        "    {(слово, мітка): частота}\n",
        "    \"\"\"\n",
        "    freqs = defaultdict(int)\n",
        "\n",
        "    for sentence, label in zip(sentences, labels):\n",
        "        words = process_sentence(sentence)\n",
        "        for word in words:\n",
        "            pair = (word, float(label))\n",
        "            freqs[pair] += 1\n",
        "\n",
        "    return dict(freqs)"
      ],
      "metadata": {
        "id": "9730TiN5LE3f"
      },
      "execution_count": 7,
      "outputs": []
    },
    {
      "cell_type": "code",
      "source": [
        "# 4. НАВЧАННЯ НАЇВНОГО БАЙЄСІВСЬКОГО КЛАСИФІКАТОРА\n",
        "def train_naive_bayes(freqs, train_sentences, train_labels):\n",
        "    \"\"\"\n",
        "    Навчання наївного байєсівського класифікатора\n",
        "    Повертає logprior та loglikelihood\n",
        "    \"\"\"\n",
        "    # Підрахунок документів кожного класу\n",
        "    train_labels = np.array(train_labels)\n",
        "    D_pos = np.sum(train_labels == 1)  # кількість порівняльних\n",
        "    D_neg = np.sum(train_labels == 0)  # кількість непорівняльних\n",
        "\n",
        "    print(f\"  Статистика навчальної вибірки:\")\n",
        "    print(f\"   Порівняльних речень: {D_pos}\")\n",
        "    print(f\"   Непорівняльних речень: {D_neg}\")\n",
        "    print(f\"   Загалом: {len(train_labels)}\")\n",
        "\n",
        "    # Обчислення апріорної ймовірності (логарифм)\n",
        "    logprior = np.log(D_pos) - np.log(D_neg)\n",
        "\n",
        "    # Створення словника логарифмічних ймовірностей\n",
        "    loglikelihood = {}\n",
        "    vocab = set([pair[0] for pair in freqs.keys()])\n",
        "\n",
        "    # Підрахунок загальної кількості слів у кожному класі\n",
        "    N_pos = sum([freqs.get((word, 1.0), 0) for word in vocab])\n",
        "    N_neg = sum([freqs.get((word, 0.0), 0) for word in vocab])\n",
        "\n",
        "    V = len(vocab)  # розмір словника\n",
        "\n",
        "    for word in vocab:\n",
        "        # Частота слова у порівняльних і непорівняльних реченнях\n",
        "        freq_pos = freqs.get((word, 1.0), 0)\n",
        "        freq_neg = freqs.get((word, 0.0), 0)\n",
        "\n",
        "        # Згладжування Лапласа (+1)\n",
        "        p_w_pos = (freq_pos + 1) / (N_pos + V)\n",
        "        p_w_neg = (freq_neg + 1) / (N_neg + V)\n",
        "\n",
        "        # Логарифмічна ймовірність\n",
        "        loglikelihood[word] = np.log(p_w_pos) - np.log(p_w_neg)\n",
        "\n",
        "    print(f\" Розмір словника: {V} унікальних слів\")\n",
        "\n",
        "    return logprior, loglikelihood"
      ],
      "metadata": {
        "id": "cMKP3C53K_1n"
      },
      "execution_count": 8,
      "outputs": []
    },
    {
      "cell_type": "code",
      "source": [
        "# 5. ФУНКЦІЯ ПЕРЕДБАЧЕННЯ\n",
        "def naive_bayes_predict(sentence, logprior, loglikelihood):\n",
        "    \"\"\"\n",
        "    Передбачення класу речення (порівняльне/непорівняльне)\n",
        "    Повертає логарифмічну ймовірність\n",
        "    \"\"\"\n",
        "    words = process_sentence(sentence)\n",
        "\n",
        "    # Початкове значення = апріорна ймовірність\n",
        "    p = logprior\n",
        "\n",
        "    # Додавання логарифмічних ймовірностей кожного слова\n",
        "    for word in words:\n",
        "        if word in loglikelihood:\n",
        "            p += loglikelihood[word]\n",
        "\n",
        "    return p"
      ],
      "metadata": {
        "id": "9QuN5Ff5KyOc"
      },
      "execution_count": 9,
      "outputs": []
    },
    {
      "cell_type": "code",
      "source": [
        "# 6. ФУНКЦІЯ ОЦІНКИ ТОЧНОСТІ\n",
        "def test_naive_bayes(test_sentences, test_labels, logprior, loglikelihood):\n",
        "    \"\"\"\n",
        "    Тестування класифікатора на тестовій вибірці\n",
        "    \"\"\"\n",
        "    predictions = []\n",
        "\n",
        "    for sentence in test_sentences:\n",
        "        p = naive_bayes_predict(sentence, logprior, loglikelihood)\n",
        "        predictions.append(1 if p > 0 else 0)\n",
        "\n",
        "    # Обчислення точності\n",
        "    accuracy = np.mean(np.array(predictions) == np.array(test_labels))\n",
        "\n",
        "    return predictions, accuracy"
      ],
      "metadata": {
        "id": "It9inikhKpFC"
      },
      "execution_count": 10,
      "outputs": []
    },
    {
      "cell_type": "code",
      "source": [
        "\n",
        "\n",
        "# 7. АНАЛІЗ НАЙБІЛЬШ ЗНАЧУЩИХ СЛІВ\n",
        "def get_ratio(freqs, word, label):\n",
        "    \"\"\"Обчислення співвідношення частот слова\"\"\"\n",
        "    pos_freq = freqs.get((word, 1.0), 0) + 1\n",
        "    neg_freq = freqs.get((word, 0.0), 0) + 1\n",
        "\n",
        "    ratio = pos_freq / neg_freq\n",
        "    return ratio\n",
        "\n",
        "def analyze_words(freqs, loglikelihood, top_n=10):\n",
        "    \"\"\"Аналіз найбільш позитивних та негативних слів\"\"\"\n",
        "    # Сортування слів за логарифмічною ймовірністю\n",
        "    sorted_words = sorted(loglikelihood.items(), key=lambda x: x[1], reverse=True)\n",
        "\n",
        "    print(f\"\\n🟢 Топ-{top_n} слів, що вказують на ПОРІВНЯЛЬНІ речення:\")\n",
        "    for word, logprob in sorted_words[:top_n]:\n",
        "        ratio = get_ratio(freqs, word, 1)\n",
        "        print(f\"   {word:<15} | log prob: {logprob:>6.3f} | ratio: {ratio:>6.2f}\")\n",
        "\n",
        "    print(f\"\\n🔴 Топ-{top_n} слів, що вказують на НЕПОРІВНЯЛЬНІ речення:\")\n",
        "    for word, logprob in sorted_words[-top_n:]:\n",
        "        ratio = get_ratio(freqs, word, 0)\n",
        "        print(f\"   {word:<15} | log prob: {logprob:>6.3f} | ratio: {1/ratio:>6.2f}\")"
      ],
      "metadata": {
        "id": "UxTkIrgAKiVs"
      },
      "execution_count": 11,
      "outputs": []
    },
    {
      "cell_type": "code",
      "source": [
        "# 8. ОСНОВНА ФУНКЦІЯ ВИКОНАННЯ\n",
        "def main():\n",
        "    print(\"Початок роботи...\")\n",
        "\n",
        "    # Завантаження даних\n",
        "    print(\"\\n1Завантаження даних...\")\n",
        "    sentences, labels = load_comparative_data()\n",
        "\n",
        "    print(f\"   Завантажено {len(sentences)} речень\")\n",
        "    print(f\"   Порівняльних: {sum(labels)}\")\n",
        "    print(f\"   Непорівняльних: {len(labels) - sum(labels)}\")\n",
        "\n",
        "    # Розділення на навчальну та тестову вибірки (80/20)\n",
        "    print(\"\\n2Розділення даних...\")\n",
        "    split_idx = int(0.8 * len(sentences))\n",
        "\n",
        "    train_sentences = sentences[:split_idx]\n",
        "    train_labels = labels[:split_idx]\n",
        "    test_sentences = sentences[split_idx:]\n",
        "    test_labels = labels[split_idx:]\n",
        "\n",
        "    print(f\"   Навчальна вибірка: {len(train_sentences)} речень\")\n",
        "    print(f\"   Тестова вибірка: {len(test_sentences)} речень\")\n",
        "\n",
        "    # Побудова частотного словника\n",
        "    print(\"\\n3Побудова частотного словника...\")\n",
        "    freqs = build_freqs(train_sentences, train_labels)\n",
        "    print(f\"   Створено {len(freqs)} унікальних пар (слово, клас)\")\n",
        "\n",
        "    # Навчання класифікатора\n",
        "    print(\"\\n4Навчання класифікатора...\")\n",
        "    logprior, loglikelihood = train_naive_bayes(freqs, train_sentences, train_labels)\n",
        "\n",
        "    # Тестування\n",
        "    print(\"\\n5Тестування класифікатора...\")\n",
        "    predictions, accuracy = test_naive_bayes(test_sentences, test_labels, logprior, loglikelihood)\n",
        "\n",
        "    print(f\"\\nРЕЗУЛЬТАТИ:\")\n",
        "    print(f\"   Точність на тестовій вибірці: {accuracy:.4f} ({accuracy*100:.2f}%)\")\n",
        "    print(f\"   Правильно класифіковано: {int(accuracy * len(test_labels))} з {len(test_labels)}\")\n",
        "\n",
        "    # Детальний звіт\n",
        "    print(f\"\\nДетальний звіт:\")\n",
        "    print(classification_report(test_labels, predictions,\n",
        "                              target_names=['Непорівняльні', 'Порівняльні']))\n",
        "\n",
        "    # Матриця плутанини\n",
        "    cm = confusion_matrix(test_labels, predictions)\n",
        "    plt.figure(figsize=(8, 6))\n",
        "    sns.heatmap(cm, annot=True, fmt='d', cmap='Blues',\n",
        "                xticklabels=['Непорівняльні', 'Порівняльні'],\n",
        "                yticklabels=['Непорівняльні', 'Порівняльні'])\n",
        "    plt.title('Матриця плутанини')\n",
        "    plt.ylabel('Справжні мітки')\n",
        "    plt.xlabel('Передбачені мітки')\n",
        "    plt.show()\n",
        "\n",
        "    # Аналіз найбільш значущих слів\n",
        "    print(\"\\n6Аналіз найбільш значущих слів...\")\n",
        "    analyze_words(freqs, loglikelihood, top_n=15)\n",
        "\n",
        "    # Тестування на власних прикладах\n",
        "    print(\"\\n7Тестування на власних прикладах:\")\n",
        "    test_sentences_custom = [\n",
        "        \"This camera is better than that one\",\n",
        "        \"Apple iPhone is superior to Samsung Galaxy\",\n",
        "        \"I love programming and data science\",\n",
        "        \"The weather is nice today\",\n",
        "        \"This product costs more than the previous version\",\n",
        "        \"Both products have similar features\",\n",
        "        \"This is the best phone on the market\"\n",
        "    ]\n",
        "\n",
        "    for sentence in test_sentences_custom:\n",
        "        score = naive_bayes_predict(sentence, logprior, loglikelihood)\n",
        "        prediction = \"Порівняльне\" if score > 0 else \"Непорівняльне\"\n",
        "        print(f\"   '{sentence}'\")\n",
        "        print(f\"   → {prediction} (score: {score:.3f})\")\n",
        "        print()\n",
        "\n",
        "    return logprior, loglikelihood, freqs\n",
        "\n",
        "# Запуск основної функції\n",
        "if __name__ == \"__main__\":\n",
        "    logprior, loglikelihood, freqs = main()"
      ],
      "metadata": {
        "colab": {
          "base_uri": "https://localhost:8080/",
          "height": 1000
        },
        "id": "r9RoHiiUKeaA",
        "outputId": "402c4f76-7ccc-4878-dc74-db449e56064d"
      },
      "execution_count": 12,
      "outputs": [
        {
          "output_type": "stream",
          "name": "stdout",
          "text": [
            "Початок роботи...\n",
            "\n",
            "1Завантаження даних...\n",
            "   Завантажено 7998 речень\n",
            "   Порівняльних: 4057\n",
            "   Непорівняльних: 3941\n",
            "\n",
            "2Розділення даних...\n",
            "   Навчальна вибірка: 6398 речень\n",
            "   Тестова вибірка: 1600 речень\n",
            "\n",
            "3Побудова частотного словника...\n",
            "   Створено 9309 унікальних пар (слово, клас)\n",
            "\n",
            "4Навчання класифікатора...\n",
            "  Статистика навчальної вибірки:\n",
            "   Порівняльних речень: 3163\n",
            "   Непорівняльних речень: 3235\n",
            "   Загалом: 6398\n",
            " Розмір словника: 6866 унікальних слів\n",
            "\n",
            "5Тестування класифікатора...\n",
            "\n",
            "РЕЗУЛЬТАТИ:\n",
            "   Точність на тестовій вибірці: 0.7244 (72.44%)\n",
            "   Правильно класифіковано: 1159 з 1600\n",
            "\n",
            "Детальний звіт:\n",
            "               precision    recall  f1-score   support\n",
            "\n",
            "Непорівняльні       0.72      0.61      0.66       706\n",
            "  Порівняльні       0.73      0.82      0.77       894\n",
            "\n",
            "     accuracy                           0.72      1600\n",
            "    macro avg       0.72      0.71      0.71      1600\n",
            " weighted avg       0.72      0.72      0.72      1600\n",
            "\n"
          ]
        },
        {
          "output_type": "display_data",
          "data": {
            "text/plain": [
              "<Figure size 800x600 with 2 Axes>"
            ],
            "image/png": "[encoded data removed]"
          },
          "metadata": {}
        },
        {
          "output_type": "stream",
          "name": "stdout",
          "text": [
            "\n",
            "6Аналіз найбільш значущих слів...\n",
            "\n",
            "🟢 Топ-15 слів, що вказують на ПОРІВНЯЛЬНІ речення:\n",
            "   like            | log prob:  5.158 | ratio: 276.00\n",
            "   best            | log prob:  4.594 | ratio: 157.00\n",
            "   better          | log prob:  4.568 | ratio: 153.00\n",
            "   first           | log prob:  4.443 | ratio: 135.00\n",
            "   really          | log prob:  4.229 | ratio: 109.00\n",
            "   small           | log prob:  3.828 | ratio:  73.00\n",
            "   second          | log prob:  3.772 | ratio:  69.00\n",
            "   last            | log prob:  3.757 | ratio:  68.00\n",
            "   less            | log prob:  3.743 | ratio:  67.00\n",
            "   window          | log prob:  3.545 | ratio:  55.00\n",
            "   actually        | log prob:  3.527 | ratio:  54.00\n",
            "   faster          | log prob:  3.527 | ratio:  54.00\n",
            "   different       | log prob:  3.508 | ratio:  53.00\n",
            "   recommend       | log prob:  3.470 | ratio:  51.00\n",
            "   difference      | log prob:  3.366 | ratio:  46.00\n",
            "\n",
            "🔴 Топ-15 слів, що вказують на НЕПОРІВНЯЛЬНІ речення:\n",
            "   whatsoever      | log prob: -2.072 | ratio:   5.00\n",
            "   warning         | log prob: -2.072 | ratio:   5.00\n",
            "   printer         | log prob: -2.072 | ratio:   5.00\n",
            "   nigeria         | log prob: -2.072 | ratio:   5.00\n",
            "   anybody         | log prob: -2.072 | ratio:   5.00\n",
            "   oct             | log prob: -2.072 | ratio:   5.00\n",
            "   tzones          | log prob: -2.167 | ratio:   5.50\n",
            "   operator        | log prob: -2.254 | ratio:   6.00\n",
            "   located         | log prob: -2.254 | ratio:   6.00\n",
            "   nov             | log prob: -2.254 | ratio:   6.00\n",
            "   downloads       | log prob: -2.254 | ratio:   6.00\n",
            "   vanilla         | log prob: -2.254 | ratio:   6.00\n",
            "   regret          | log prob: -2.408 | ratio:   7.00\n",
            "   followed        | log prob: -2.408 | ratio:   7.00\n",
            "   jun             | log prob: -2.408 | ratio:   7.00\n",
            "\n",
            "7Тестування на власних прикладах:\n",
            "   'This camera is better than that one'\n",
            "   → Порівняльне (score: 4.822)\n",
            "\n",
            "   'Apple iPhone is superior to Samsung Galaxy'\n",
            "   → Порівняльне (score: 3.356)\n",
            "\n",
            "   'I love programming and data science'\n",
            "   → Непорівняльне (score: -3.200)\n",
            "\n",
            "   'The weather is nice today'\n",
            "   → Непорівняльне (score: -0.562)\n",
            "\n",
            "   'This product costs more than the previous version'\n",
            "   → Порівняльне (score: 2.505)\n",
            "\n",
            "   'Both products have similar features'\n",
            "   → Порівняльне (score: 2.619)\n",
            "\n",
            "   'This is the best phone on the market'\n",
            "   → Порівняльне (score: 4.739)\n",
            "\n"
          ]
        }
      ]
    }
  ]
}